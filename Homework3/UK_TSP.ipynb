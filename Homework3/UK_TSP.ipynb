{
  "nbformat": 4,
  "nbformat_minor": 0,
  "metadata": {
    "kernelspec": {
      "display_name": "Python 3",
      "language": "python",
      "name": "python3"
    },
    "language_info": {
      "codemirror_mode": {
        "name": "ipython",
        "version": 3
      },
      "file_extension": ".py",
      "mimetype": "text/x-python",
      "name": "python",
      "nbconvert_exporter": "python",
      "pygments_lexer": "ipython3",
      "version": "3.6.10"
    },
    "colab": {
      "name": "UK_TSP.ipynb",
      "provenance": [],
      "collapsed_sections": []
    }
  },
  "cells": [
    {
      "cell_type": "code",
      "metadata": {
        "collapsed": true,
        "id": "jFXFYIQd9sTx"
      },
      "source": [
        "import pandas as pd"
      ],
      "execution_count": 1,
      "outputs": []
    },
    {
      "cell_type": "code",
      "metadata": {
        "colab": {
          "base_uri": "https://localhost:8080/"
        },
        "id": "ZoCWyVHD-O-q",
        "outputId": "025ba748-fec9-4f99-8fe0-1cd23733825e"
      },
      "source": [
        "!ls"
      ],
      "execution_count": 3,
      "outputs": [
        {
          "output_type": "stream",
          "name": "stdout",
          "text": [
            "sample_data\n"
          ]
        }
      ]
    },
    {
      "cell_type": "code",
      "metadata": {
        "colab": {
          "base_uri": "https://localhost:8080/",
          "height": 204
        },
        "id": "4xvuBe3a9sUF",
        "outputId": "ab9dc017-7acb-4ddc-aa11-b2b5907ecd88"
      },
      "source": [
        "df_xy = pd.read_csv(\"uk12_xy.csv\", header=None, names=['x','y'])\n",
        "df_xy.head()"
      ],
      "execution_count": 4,
      "outputs": [
        {
          "output_type": "execute_result",
          "data": {
            "text/html": [
              "<div>\n",
              "<style scoped>\n",
              "    .dataframe tbody tr th:only-of-type {\n",
              "        vertical-align: middle;\n",
              "    }\n",
              "\n",
              "    .dataframe tbody tr th {\n",
              "        vertical-align: top;\n",
              "    }\n",
              "\n",
              "    .dataframe thead th {\n",
              "        text-align: right;\n",
              "    }\n",
              "</style>\n",
              "<table border=\"1\" class=\"dataframe\">\n",
              "  <thead>\n",
              "    <tr style=\"text-align: right;\">\n",
              "      <th></th>\n",
              "      <th>x</th>\n",
              "      <th>y</th>\n",
              "    </tr>\n",
              "  </thead>\n",
              "  <tbody>\n",
              "    <tr>\n",
              "      <th>0</th>\n",
              "      <td>0.00019</td>\n",
              "      <td>-0.000286</td>\n",
              "    </tr>\n",
              "    <tr>\n",
              "      <th>1</th>\n",
              "      <td>383.45800</td>\n",
              "      <td>-0.000609</td>\n",
              "    </tr>\n",
              "    <tr>\n",
              "      <th>2</th>\n",
              "      <td>-27.02060</td>\n",
              "      <td>-282.758000</td>\n",
              "    </tr>\n",
              "    <tr>\n",
              "      <th>3</th>\n",
              "      <td>335.75100</td>\n",
              "      <td>-269.577000</td>\n",
              "    </tr>\n",
              "    <tr>\n",
              "      <th>4</th>\n",
              "      <td>69.43310</td>\n",
              "      <td>-246.780000</td>\n",
              "    </tr>\n",
              "  </tbody>\n",
              "</table>\n",
              "</div>"
            ],
            "text/plain": [
              "           x           y\n",
              "0    0.00019   -0.000286\n",
              "1  383.45800   -0.000609\n",
              "2  -27.02060 -282.758000\n",
              "3  335.75100 -269.577000\n",
              "4   69.43310 -246.780000"
            ]
          },
          "metadata": {},
          "execution_count": 4
        }
      ]
    },
    {
      "cell_type": "code",
      "metadata": {
        "colab": {
          "base_uri": "https://localhost:8080/",
          "height": 204
        },
        "id": "rRWBlUhU9sUM",
        "outputId": "65ae270d-d6df-41ba-d499-fec17c8027e3"
      },
      "source": [
        "df_cityname = pd.read_csv(\"uk12_name.csv\", header=None, names=['name'])\n",
        "df_cityname.head()"
      ],
      "execution_count": 6,
      "outputs": [
        {
          "output_type": "execute_result",
          "data": {
            "text/html": [
              "<div>\n",
              "<style scoped>\n",
              "    .dataframe tbody tr th:only-of-type {\n",
              "        vertical-align: middle;\n",
              "    }\n",
              "\n",
              "    .dataframe tbody tr th {\n",
              "        vertical-align: top;\n",
              "    }\n",
              "\n",
              "    .dataframe thead th {\n",
              "        text-align: right;\n",
              "    }\n",
              "</style>\n",
              "<table border=\"1\" class=\"dataframe\">\n",
              "  <thead>\n",
              "    <tr style=\"text-align: right;\">\n",
              "      <th></th>\n",
              "      <th>name</th>\n",
              "    </tr>\n",
              "  </thead>\n",
              "  <tbody>\n",
              "    <tr>\n",
              "      <th>0</th>\n",
              "      <td>Aberystwyth</td>\n",
              "    </tr>\n",
              "    <tr>\n",
              "      <th>1</th>\n",
              "      <td>Brighton</td>\n",
              "    </tr>\n",
              "    <tr>\n",
              "      <th>2</th>\n",
              "      <td>Edinburgh</td>\n",
              "    </tr>\n",
              "    <tr>\n",
              "      <th>3</th>\n",
              "      <td>Exeter</td>\n",
              "    </tr>\n",
              "    <tr>\n",
              "      <th>4</th>\n",
              "      <td>Glasgow</td>\n",
              "    </tr>\n",
              "  </tbody>\n",
              "</table>\n",
              "</div>"
            ],
            "text/plain": [
              "          name\n",
              "0  Aberystwyth\n",
              "1     Brighton\n",
              "2    Edinburgh\n",
              "3       Exeter\n",
              "4      Glasgow"
            ]
          },
          "metadata": {},
          "execution_count": 6
        }
      ]
    },
    {
      "cell_type": "code",
      "metadata": {
        "colab": {
          "base_uri": "https://localhost:8080/",
          "height": 204
        },
        "id": "MPq3YDmv9sUQ",
        "outputId": "115a9f39-acab-4b9d-aeeb-4ea21fbf8821"
      },
      "source": [
        "df_tsp = df_cityname.join(df_xy)\n",
        "df_tsp.head()"
      ],
      "execution_count": 7,
      "outputs": [
        {
          "output_type": "execute_result",
          "data": {
            "text/html": [
              "<div>\n",
              "<style scoped>\n",
              "    .dataframe tbody tr th:only-of-type {\n",
              "        vertical-align: middle;\n",
              "    }\n",
              "\n",
              "    .dataframe tbody tr th {\n",
              "        vertical-align: top;\n",
              "    }\n",
              "\n",
              "    .dataframe thead th {\n",
              "        text-align: right;\n",
              "    }\n",
              "</style>\n",
              "<table border=\"1\" class=\"dataframe\">\n",
              "  <thead>\n",
              "    <tr style=\"text-align: right;\">\n",
              "      <th></th>\n",
              "      <th>name</th>\n",
              "      <th>x</th>\n",
              "      <th>y</th>\n",
              "    </tr>\n",
              "  </thead>\n",
              "  <tbody>\n",
              "    <tr>\n",
              "      <th>0</th>\n",
              "      <td>Aberystwyth</td>\n",
              "      <td>0.00019</td>\n",
              "      <td>-0.000286</td>\n",
              "    </tr>\n",
              "    <tr>\n",
              "      <th>1</th>\n",
              "      <td>Brighton</td>\n",
              "      <td>383.45800</td>\n",
              "      <td>-0.000609</td>\n",
              "    </tr>\n",
              "    <tr>\n",
              "      <th>2</th>\n",
              "      <td>Edinburgh</td>\n",
              "      <td>-27.02060</td>\n",
              "      <td>-282.758000</td>\n",
              "    </tr>\n",
              "    <tr>\n",
              "      <th>3</th>\n",
              "      <td>Exeter</td>\n",
              "      <td>335.75100</td>\n",
              "      <td>-269.577000</td>\n",
              "    </tr>\n",
              "    <tr>\n",
              "      <th>4</th>\n",
              "      <td>Glasgow</td>\n",
              "      <td>69.43310</td>\n",
              "      <td>-246.780000</td>\n",
              "    </tr>\n",
              "  </tbody>\n",
              "</table>\n",
              "</div>"
            ],
            "text/plain": [
              "          name          x           y\n",
              "0  Aberystwyth    0.00019   -0.000286\n",
              "1     Brighton  383.45800   -0.000609\n",
              "2    Edinburgh  -27.02060 -282.758000\n",
              "3       Exeter  335.75100 -269.577000\n",
              "4      Glasgow   69.43310 -246.780000"
            ]
          },
          "metadata": {},
          "execution_count": 7
        }
      ]
    },
    {
      "cell_type": "code",
      "metadata": {
        "colab": {
          "base_uri": "https://localhost:8080/"
        },
        "id": "DBTj8KrX9sUS",
        "outputId": "052413a2-6a37-4fd6-aa8b-1d94e20b2a1f"
      },
      "source": [
        "# from collections import namedtuple\n",
        "# Capital = namedtuple('Capital', 'name state x y')\n",
        "tsp = df_tsp.apply(lambda row: (row.name, row.x, row.y), axis=1).tolist()\n",
        "tsp"
      ],
      "execution_count": 8,
      "outputs": [
        {
          "output_type": "execute_result",
          "data": {
            "text/plain": [
              "[(0, 0.000190032, -0.000285946),\n",
              " (1, 383.458, -0.000608756),\n",
              " (2, -27.0206, -282.758),\n",
              " (3, 335.751, -269.577),\n",
              " (4, 69.4331, -246.78),\n",
              " (5, 168.521, 31.4012),\n",
              " (6, 320.35, -160.9),\n",
              " (7, 179.933, -318.031),\n",
              " (8, 492.671, -131.563),\n",
              " (9, 112.198, -110.561),\n",
              " (10, 306.32, -108.09),\n",
              " (11, 217.343, -447.089)]"
            ]
          },
          "metadata": {},
          "execution_count": 8
        }
      ]
    },
    {
      "cell_type": "code",
      "metadata": {
        "colab": {
          "base_uri": "https://localhost:8080/"
        },
        "id": "yiJAONH89sUV",
        "outputId": "42917208-2e82-458e-897e-573985bb3ae7"
      },
      "source": [
        "from math import sqrt\n",
        "def dist_tsp(c1, c2):\n",
        "    return sqrt((c1[1]-c2[1])**2 + (c1[2]-c2[2])**2)\n",
        "dist_tsp(tsp[0], tsp[1])"
      ],
      "execution_count": 9,
      "outputs": [
        {
          "output_type": "execute_result",
          "data": {
            "text/plain": [
              "383.45780996813596"
            ]
          },
          "metadata": {},
          "execution_count": 9
        }
      ]
    },
    {
      "cell_type": "code",
      "metadata": {
        "collapsed": true,
        "id": "9dZ8442p9sUY"
      },
      "source": [
        "# import itertools\n",
        "# tours = list(itertools.permutations(tsp))\n",
        "# len(tours)"
      ],
      "execution_count": null,
      "outputs": []
    },
    {
      "cell_type": "code",
      "metadata": {
        "id": "QbLKIAc89sUb",
        "outputId": "10de9612-6048-466e-829f-3b5bd9bf743e"
      },
      "source": [
        "# tours[0]"
      ],
      "execution_count": null,
      "outputs": [
        {
          "data": {
            "text/plain": [
              "(Capital(name='Montgomery', state='Alabama', x=-5961.513053174005, y=2236.041995790761),\n",
              " Capital(name='Juneau', state='Alaska', x=-9287.821354574533, y=4028.4109826876347),\n",
              " Capital(name='Phoenix', state='Arizona', x=-7743.816805421991, y=2311.143387140668))"
            ]
          },
          "execution_count": 11,
          "metadata": {},
          "output_type": "execute_result"
        }
      ]
    },
    {
      "cell_type": "code",
      "metadata": {
        "id": "G_qJqm_a9sUf"
      },
      "source": [
        "def total_distance(tour):\n",
        "    return sum(dist_tsp(c1, c2) for c1, c2 in zip(tour, tour[1:]))\n",
        "# total_distance(tours[0])"
      ],
      "execution_count": 10,
      "outputs": []
    },
    {
      "cell_type": "code",
      "metadata": {
        "id": "udzH6rhO9sUj"
      },
      "source": [
        "# distances = [total_distance(tour) for tour in tours]\n",
        "# distances"
      ],
      "execution_count": null,
      "outputs": []
    },
    {
      "cell_type": "code",
      "metadata": {
        "id": "kAWspzoh9sUm",
        "outputId": "99a5508e-88e6-4766-bd82-515616598b3d"
      },
      "source": [
        "import numpy as np\n",
        "index_min = np.argmin(distances)\n",
        "index_min"
      ],
      "execution_count": null,
      "outputs": [
        {
          "data": {
            "text/plain": [
              "1"
            ]
          },
          "execution_count": 21,
          "metadata": {},
          "output_type": "execute_result"
        }
      ]
    },
    {
      "cell_type": "code",
      "metadata": {
        "id": "ZbuB8VR09sUo",
        "outputId": "0513de66-cb96-4104-839b-9c7aab7ae0db"
      },
      "source": [
        "print('TOUR:', tours[index_min])\n",
        "print('DISTANCE:', distances[index_min])"
      ],
      "execution_count": null,
      "outputs": [
        {
          "name": "stdout",
          "output_type": "stream",
          "text": [
            "TOUR: (Capital(name='Montgomery', state='Alabama', x=-5961.513053174005, y=2236.041995790761), Capital(name='Phoenix', state='Arizona', x=-7743.816805421991, y=2311.143387140668), Capital(name='Juneau', state='Alaska', x=-9287.821354574533, y=4028.4109826876347))\n",
            "DISTANCE: 4093.205156316135\n"
          ]
        }
      ]
    },
    {
      "cell_type": "code",
      "metadata": {
        "collapsed": true,
        "id": "M2lkj3xq9sUr"
      },
      "source": [
        "import tqdm"
      ],
      "execution_count": 11,
      "outputs": []
    },
    {
      "cell_type": "code",
      "metadata": {
        "collapsed": true,
        "id": "YPsUUfnj9sUt"
      },
      "source": [
        "def permutation(lst):\n",
        "    if len(lst) == 0:\n",
        "        return []\n",
        "    \n",
        "    if len(lst) == 1:\n",
        "        return [lst]\n",
        " \n",
        "    l = []\n",
        "    for i in range(len(lst)):\n",
        "        m = lst[i]\n",
        " \n",
        "        remLst = lst[:i] + lst[i+1:]\n",
        "        \n",
        "        for p in permutation(remLst):\n",
        "            l.append([m] + p)\n",
        "    return l"
      ],
      "execution_count": 12,
      "outputs": []
    },
    {
      "cell_type": "code",
      "metadata": {
        "collapsed": true,
        "id": "o-1xktlE9sUv"
      },
      "source": [
        "a = [1]\n",
        "b = [2]\n",
        "c = [3]"
      ],
      "execution_count": null,
      "outputs": []
    },
    {
      "cell_type": "code",
      "metadata": {
        "id": "L2qVYIuf9sUw",
        "outputId": "9dd25022-1031-48ae-82c2-130e4af5bb85"
      },
      "source": [
        "d = []\n",
        "d = [a + b]\n",
        "d.append(a + b + c)\n",
        "d"
      ],
      "execution_count": null,
      "outputs": [
        {
          "data": {
            "text/plain": [
              "[[1, 2], [1, 2, 3]]"
            ]
          },
          "execution_count": 20,
          "metadata": {},
          "output_type": "execute_result"
        }
      ]
    },
    {
      "cell_type": "code",
      "metadata": {
        "collapsed": true,
        "id": "Ed1F75DT9sUy"
      },
      "source": [
        "def root_perm(lst):\n",
        "    if len(lst) == 0:\n",
        "        return []\n",
        "    \n",
        "    if len(lst) == 1:\n",
        "        return [lst]\n",
        " \n",
        "    l = []\n",
        "    min_dist = float('inf')\n",
        "    for i in tqdm.tqdm(range(len(lst))):\n",
        "        m = lst[i]\n",
        " \n",
        "        remLst = lst[:i] + lst[i+1:]\n",
        "        \n",
        "        for p in permutation(remLst):\n",
        "            td = total_distance([m] + p)\n",
        "            if td < min_dist:\n",
        "                min_dist = td\n",
        "                l = [[m] + p]\n",
        "            if td == min_dist:\n",
        "                l.append([m] + p)\n",
        "                \n",
        "            #l.append([m] + p)\n",
        "    return l"
      ],
      "execution_count": 13,
      "outputs": []
    },
    {
      "cell_type": "code",
      "metadata": {
        "colab": {
          "base_uri": "https://localhost:8080/"
        },
        "id": "rDD34skW9sU0",
        "outputId": "722b3cb4-cada-4e3f-889f-f0707a62881e"
      },
      "source": [
        "for p in root_perm(tsp):\n",
        "    print(p)"
      ],
      "execution_count": 14,
      "outputs": [
        {
          "output_type": "stream",
          "name": "stderr",
          "text": [
            "100%|██████████| 12/12 [2:05:57<00:00, 629.77s/it]"
          ]
        },
        {
          "output_type": "stream",
          "name": "stdout",
          "text": [
            "[(0, 0.000190032, -0.000285946), (5, 168.521, 31.4012), (9, 112.198, -110.561), (4, 69.4331, -246.78), (2, -27.0206, -282.758), (7, 179.933, -318.031), (11, 217.343, -447.089), (3, 335.751, -269.577), (6, 320.35, -160.9), (10, 306.32, -108.09), (1, 383.458, -0.000608756), (8, 492.671, -131.563)]\n",
            "[(0, 0.000190032, -0.000285946), (5, 168.521, 31.4012), (9, 112.198, -110.561), (4, 69.4331, -246.78), (2, -27.0206, -282.758), (7, 179.933, -318.031), (11, 217.343, -447.089), (3, 335.751, -269.577), (6, 320.35, -160.9), (10, 306.32, -108.09), (1, 383.458, -0.000608756), (8, 492.671, -131.563)]\n",
            "[(8, 492.671, -131.563), (1, 383.458, -0.000608756), (10, 306.32, -108.09), (6, 320.35, -160.9), (3, 335.751, -269.577), (11, 217.343, -447.089), (7, 179.933, -318.031), (2, -27.0206, -282.758), (4, 69.4331, -246.78), (9, 112.198, -110.561), (5, 168.521, 31.4012), (0, 0.000190032, -0.000285946)]\n"
          ]
        },
        {
          "output_type": "stream",
          "name": "stderr",
          "text": [
            "\n"
          ]
        }
      ]
    },
    {
      "cell_type": "code",
      "metadata": {
        "collapsed": true,
        "id": "NBM6mziL9sU2"
      },
      "source": [
        ""
      ],
      "execution_count": null,
      "outputs": []
    },
    {
      "cell_type": "code",
      "metadata": {
        "id": "N5SivpERdegK"
      },
      "source": [
        "t1 = [(0, 0.000190032, -0.000285946), (5, 168.521, 31.4012), (9, 112.198, -110.561), (4, 69.4331, -246.78), (2, -27.0206, -282.758), (7, 179.933, -318.031), (11, 217.343, -447.089), (3, 335.751, -269.577), (6, 320.35, -160.9), (10, 306.32, -108.09), (1, 383.458, -0.000608756), (8, 492.671, -131.563)]\n",
        "t2 = [(0, 0.000190032, -0.000285946), (5, 168.521, 31.4012), (9, 112.198, -110.561), (4, 69.4331, -246.78), (2, -27.0206, -282.758), (7, 179.933, -318.031), (11, 217.343, -447.089), (3, 335.751, -269.577), (6, 320.35, -160.9), (10, 306.32, -108.09), (1, 383.458, -0.000608756), (8, 492.671, -131.563)]\n",
        "t3 = [(8, 492.671, -131.563), (1, 383.458, -0.000608756), (10, 306.32, -108.09), (6, 320.35, -160.9), (3, 335.751, -269.577), (11, 217.343, -447.089), (7, 179.933, -318.031), (2, -27.0206, -282.758), (4, 69.4331, -246.78), (9, 112.198, -110.561), (5, 168.521, 31.4012), (0, 0.000190032, -0.000285946)]"
      ],
      "execution_count": 15,
      "outputs": []
    },
    {
      "cell_type": "code",
      "metadata": {
        "colab": {
          "base_uri": "https://localhost:8080/"
        },
        "id": "uQABpdEUdrAM",
        "outputId": "1897054b-7700-4c8d-9796-a3dc297b2761"
      },
      "source": [
        "print(total_distance(t1), total_distance(t2), total_distance(t3))"
      ],
      "execution_count": 19,
      "outputs": [
        {
          "output_type": "stream",
          "name": "stdout",
          "text": [
            "1595.738522033024 1595.738522033024 1595.738522033024\n"
          ]
        }
      ]
    },
    {
      "cell_type": "code",
      "metadata": {
        "colab": {
          "base_uri": "https://localhost:8080/",
          "height": 35
        },
        "id": "mmbJVE8aggLH",
        "outputId": "d08af2e4-1c72-4a4b-c09e-ae2306baec09"
      },
      "source": [
        "df_tsp.loc[2, 'name']"
      ],
      "execution_count": 26,
      "outputs": [
        {
          "output_type": "execute_result",
          "data": {
            "application/vnd.google.colaboratory.intrinsic+json": {
              "type": "string"
            },
            "text/plain": [
              "'Edinburgh'"
            ]
          },
          "metadata": {},
          "execution_count": 26
        }
      ]
    },
    {
      "cell_type": "code",
      "metadata": {
        "colab": {
          "base_uri": "https://localhost:8080/"
        },
        "id": "oqNi7uvqd-rQ",
        "outputId": "36ae6a01-b1e0-4da9-b9dd-79b6d1f2a67e"
      },
      "source": [
        "for tpl1, tpl2, tpl3 in zip(t1, t2, t3):\n",
        "    c1 = df_tsp.loc[tpl1[0], 'name']\n",
        "    c2 = df_tsp.loc[tpl2[0], 'name']\n",
        "    c3 = df_tsp.loc[tpl3[0], 'name']\n",
        "    s = '|{0: <15}|{1: <15}|{2: <15}|'.format(c1, c2, c3)\n",
        "    print(s)"
      ],
      "execution_count": 27,
      "outputs": [
        {
          "output_type": "stream",
          "name": "stdout",
          "text": [
            "|Aberystwyth    |Aberystwyth    |Newcastle      |\n",
            "|Inverness      |Inverness      |Brighton       |\n",
            "|Nottingham     |Nottingham     |Oxford         |\n",
            "|Glasgow        |Glasgow        |Liverpool      |\n",
            "|Edinburgh      |Edinburgh      |Exeter         |\n",
            "|London         |London         |Stratford      |\n",
            "|Stratford      |Stratford      |London         |\n",
            "|Exeter         |Exeter         |Edinburgh      |\n",
            "|Liverpool      |Liverpool      |Glasgow        |\n",
            "|Oxford         |Oxford         |Nottingham     |\n",
            "|Brighton       |Brighton       |Inverness      |\n",
            "|Newcastle      |Newcastle      |Aberystwyth    |\n"
          ]
        }
      ]
    },
    {
      "cell_type": "code",
      "metadata": {
        "colab": {
          "base_uri": "https://localhost:8080/"
        },
        "id": "OJmTBzjthn4F",
        "outputId": "dfd09b38-7a38-4996-9157-55b0b1538e6e"
      },
      "source": [
        "for tpl2, tpl3 in zip(t2, t3):\n",
        "    c2 = df_tsp.loc[tpl2[0], 'name']\n",
        "    c3 = df_tsp.loc[tpl3[0], 'name']\n",
        "    s = '|{0: <20}|{1: <20}|'.format(c2, c3)\n",
        "    print(s)\n",
        "print('|{0: <20}|{1: <20}|'.format(total_distance(t2), total_distance(t3)))"
      ],
      "execution_count": 29,
      "outputs": [
        {
          "output_type": "stream",
          "name": "stdout",
          "text": [
            "|Aberystwyth         |Newcastle           |\n",
            "|Inverness           |Brighton            |\n",
            "|Nottingham          |Oxford              |\n",
            "|Glasgow             |Liverpool           |\n",
            "|Edinburgh           |Exeter              |\n",
            "|London              |Stratford           |\n",
            "|Stratford           |London              |\n",
            "|Exeter              |Edinburgh           |\n",
            "|Liverpool           |Glasgow             |\n",
            "|Oxford              |Nottingham          |\n",
            "|Brighton            |Inverness           |\n",
            "|Newcastle           |Aberystwyth         |\n",
            "|1595.738522033024   |1595.738522033024   |\n"
          ]
        }
      ]
    },
    {
      "cell_type": "code",
      "metadata": {
        "id": "Kso6hc18lOxv"
      },
      "source": [
        "lst = list(map(list, zip(*tsp)))\n",
        "i = lst[0]\n",
        "x = lst[1]\n",
        "y = lst[2]"
      ],
      "execution_count": 32,
      "outputs": []
    },
    {
      "cell_type": "code",
      "metadata": {
        "colab": {
          "base_uri": "https://localhost:8080/"
        },
        "id": "Mj04zSOlmlmL",
        "outputId": "e82161c2-cab1-4b7b-982b-025f4444778d"
      },
      "source": [
        "cities_lst = df_tsp['name'].tolist()\n",
        "cities_lst\n"
      ],
      "execution_count": 40,
      "outputs": [
        {
          "output_type": "execute_result",
          "data": {
            "text/plain": [
              "['Aberystwyth',\n",
              " 'Brighton',\n",
              " 'Edinburgh',\n",
              " 'Exeter',\n",
              " 'Glasgow',\n",
              " 'Inverness',\n",
              " 'Liverpool',\n",
              " 'London',\n",
              " 'Newcastle',\n",
              " 'Nottingham',\n",
              " 'Oxford',\n",
              " 'Stratford']"
            ]
          },
          "metadata": {},
          "execution_count": 40
        }
      ]
    },
    {
      "cell_type": "code",
      "metadata": {
        "id": "s8c1eNMjw378"
      },
      "source": [
        "import matplotlib.pyplot as plt\n",
        "\n",
        "def plot_line(p1, p2):\n",
        "    x = (p1[1], p2[1])\n",
        "    y = (p1[2], p2[2])\n",
        "    plt.plot(x,y, '-o',label='x,y')\n",
        "\n",
        "def plot_tour(tour):\n",
        "    [plot_line(c1, c2) for c1, c2 in zip(tour, tour[1:])]"
      ],
      "execution_count": 65,
      "outputs": []
    },
    {
      "cell_type": "code",
      "metadata": {
        "colab": {
          "base_uri": "https://localhost:8080/",
          "height": 592
        },
        "id": "QbabCDlDl0Mw",
        "outputId": "17b427bd-b0e2-4a58-cbde-86478fb22ea8"
      },
      "source": [
        "fig, ax = plt.subplots()\n",
        "fig.set_size_inches(15, 10)\n",
        "ax.scatter(x, y)\n",
        "\n",
        "for i, txt in enumerate(cities_lst):\n",
        "    ax.annotate(txt, (x[i], y[i]), weight='bold')\n",
        "plot_tour(t1)"
      ],
      "execution_count": 66,
      "outputs": [
        {
          "output_type": "display_data",
          "data": {
            "image/png": "[encoded data removed]",
            "text/plain": [
              "<Figure size 1080x720 with 1 Axes>"
            ]
          },
          "metadata": {
            "needs_background": "light"
          }
        }
      ]
    }
  ]
}